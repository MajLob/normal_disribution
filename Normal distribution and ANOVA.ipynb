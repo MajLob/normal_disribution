{
 "cells": [
  {
   "cell_type": "code",
   "execution_count": null,
   "metadata": {},
   "outputs": [],
   "source": [
    "import math\n",
    "import random\n",
    "from scipy.stats import shapiro, f_oneway\n",
    "import numpy as np\n",
    "from statsmodels.formula.api import ols\n",
    "from statsmodels.stats.multicomp import MultiComparison, pairwise_tukeyhsd\n",
    "from statsmodels.stats.multitest import multipletests\n",
    "import pandas as pd\n",
    "import json"
   ]
  },
  {
   "cell_type": "markdown",
   "metadata": {},
   "source": [
    "<h3>Collect means and standard deviations</h3>"
   ]
  },
  {
   "cell_type": "code",
   "execution_count": null,
   "metadata": {},
   "outputs": [],
   "source": [
    "n = int(input(\"Enter the number of averages needed: \"))\n",
    "people = 0\n",
    "averages = []\n",
    "\n",
    "for i in range(n):\n",
    "    data = []\n",
    "    mean = int(input(\"Enter the mean: \"))\n",
    "    data.append(mean)\n",
    "    stddev = int(input(\"Enter the standard deviation: \"))\n",
    "    data.append(stddev)\n",
    "    size = int(input(\"Enter the data size: \"))\n",
    "    data.append(size)\n",
    "    people += size\n",
    "    min_value = int(input(\"Enter the minimum value: \"))\n",
    "    data.append(min_value)\n",
    "    max_value = int(input(\"Enter the maximum value: \"))\n",
    "    data.append(max_value)\n",
    "\n",
    "    averages.append(data)\n",
    "    print(mean, stddev, size, min_value, max_value)\n",
    "    print(people)"
   ]
  },
  {
   "cell_type": "markdown",
   "metadata": {},
   "source": [
    "<h3># Generate distribution</h3>"
   ]
  },
  {
   "cell_type": "code",
   "execution_count": null,
   "metadata": {},
   "outputs": [],
   "source": [
    "def distribution(mean, stddev, size, min_value, max_value):\n",
    "    rands = []\n",
    "    while len(rands) < size:\n",
    "        random0 = random.uniform(0, 1)\n",
    "        random1 = random.uniform(0, 1)\n",
    "\n",
    "        z0 = math.sqrt(-2 * math.log(random0)) * math.cos(2 * math.pi * random1)\n",
    "        value = mean + z0 * stddev\n",
    "        rounded_value = round(value)\n",
    "\n",
    "        if rounded_value < min_value:\n",
    "            rounded_value = min_value\n",
    "        if max_value is not None and rounded_value > max_value:\n",
    "            rounded_value = max_value\n",
    "\n",
    "        rands.append(rounded_value)\n",
    "    return rands\n"
   ]
  },
  {
   "cell_type": "markdown",
   "metadata": {},
   "source": [
    "<h3>Collecting the data </h3>"
   ]
  },
  {
   "cell_type": "code",
   "execution_count": null,
   "metadata": {},
   "outputs": [],
   "source": [
    "data_to_export = []\n",
    "alpha = 0.05\n",
    "\n",
    "for i in range(n):\n",
    "    normal_distribution = distribution(averages[i][0], averages[i][1], averages[i][2], averages[i][3], averages[i][4])\n",
    "    stat, p = shapiro(normal_distribution)\n",
    "    if p > alpha:\n",
    "        data_to_export.append(normal_distribution)\n",
    "\n",
    "sum_data_to_export = sum(data_to_export, [])\n"
   ]
  },
  {
   "cell_type": "markdown",
   "metadata": {},
   "source": [
    "<h3>Collecting additional variables </h3>"
   ]
  },
  {
   "cell_type": "code",
   "execution_count": null,
   "metadata": {},
   "outputs": [],
   "source": [
    "n = int(input(\"Enter the number of additional variables needed: \"))\n",
    "group_variables = []\n",
    "\n",
    "for _ in range(n):\n",
    "    variables = int(input(\"Enter the number of variable levels, e.g., 2 for gender: \"))\n",
    "    repetition = int(input(\"Enter how many times the set of digits should repeat: \"))\n",
    "    group_name = input(\"Enter the name of the variable group, e.g., gender: \")\n",
    "    values = []\n",
    "\n",
    "    for _ in range(variables):\n",
    "        name = input(\"Enter the name of the variable: \")\n",
    "        x = int(input(f'Enter the number of {name}: '))\n",
    "        digit = int(input(f'Enter the digit representing {name}: '))\n",
    "\n",
    "        if repetition == 0:\n",
    "            for _ in range(x):\n",
    "                values.append(digit)\n",
    "        else:\n",
    "            z = x // repetition\n",
    "            for _ in range(z):\n",
    "                values.append(digit)\n",
    "\n",
    "    group_variables.append(values)\n",
    "\n",
    "group_variables = sum(group_variables, [])\n",
    "print(group_variables)\n"
   ]
  },
  {
   "cell_type": "markdown",
   "metadata": {},
   "source": [
    "<h3>ANOVA</h3>"
   ]
  },
  {
   "cell_type": "code",
   "execution_count": null,
   "metadata": {},
   "outputs": [],
   "source": [
    "statistic, pvalue = f_oneway(data_to_export[0], data_to_export[1], data_to_export[2])\n",
    "print(pvalue)\n",
    "print(statistic)\n",
    "statistic = round(statistic, 3)\n",
    "\n",
    "if pvalue < 0.001:\n",
    "    pvalue = '<0.001'\n",
    "elif pvalue == 0.001:\n",
    "    pvalue = '=0.001'\n",
    "else:\n",
    "    pvalue = round(pvalue, 3)\n",
    "    pvalue = f'={pvalue}'\n",
    "\n",
    "print(f'pvalue: {pvalue}')\n",
    "print(f'F: {statistic}')"
   ]
  },
  {
   "cell_type": "code",
   "execution_count": null,
   "metadata": {},
   "outputs": [],
   "source": [
    "#degrees of freedom\n",
    "df = len(data_to_export) - 1\n",
    "print(df)\n",
    "df_between = people - len(data_to_export)\n",
    "print(df_between)\n",
    "df_within = people - 1\n",
    "print(df_within)"
   ]
  },
  {
   "cell_type": "code",
   "execution_count": null,
   "metadata": {},
   "outputs": [],
   "source": [
    "# SS between and total\n",
    "mean = np.mean(sum_data_to_export)\n",
    "print(mean)\n",
    "\n",
    "group_means = [np.mean(group) for group in data_to_export]\n",
    "group_sizes = [len(group) for group in data_to_export]\n",
    "\n",
    "SSb = sum(\n",
    "    group_sizes[i] * (group_means[i] - mean) ** 2 for i in range(len(group_means))\n",
    ")\n",
    "SSb = round(SSb, 3)\n",
    "print(\"Sum of squares between (SS_B):\", SSb)\n",
    "\n",
    "SSt = sum((x - mean) ** 2 for x in sum_data_to_export)\n",
    "SSt = round(SSt, 3)\n",
    "print(\"Total sum of squares (SSt):\", SSt)\n"
   ]
  },
  {
   "cell_type": "code",
   "execution_count": null,
   "metadata": {},
   "outputs": [],
   "source": [
    "#eta-squared\n",
    "eta2 = round(SSb / SSt, 3)\n",
    "print(\"Eta-squared (η²):\", eta2)\n",
    "\n",
    "if eta2 < 0.06:\n",
    "    interpretation = \"small\"\n",
    "elif eta2 < 0.14:\n",
    "    interpretation = \"medium\"\n",
    "else:\n",
    "    interpretation = \"large\"\n"
   ]
  },
  {
   "cell_type": "code",
   "execution_count": null,
   "metadata": {},
   "outputs": [],
   "source": [
    "#post-hoc = sidak\n",
    "mc = MultiComparison(sum_data_to_export, group_variables)\n",
    "result = mc.tukeyhsd()\n",
    "print(result)\n",
    "p_values = result.pvalues\n",
    "sidak_adjusted = multipletests(p_values, method='sidak')[1]\n",
    "\n",
    "formatted_sidak_adjusted = []\n",
    "for p in sidak_adjusted:\n",
    "    if p < 0.001:\n",
    "        formatted_sidak_adjusted.append('<0.001')\n",
    "    elif p == 0.001:\n",
    "        formatted_sidak_adjusted.append('=0.001')\n",
    "    else:\n",
    "        formatted_sidak_adjusted.append(round(p, 3))\n",
    "\n",
    "print(f'Post hoc (Sidak): group 1-2: {formatted_sidak_adjusted[0]}, group 1-3: {formatted_sidak_adjusted[1]}, group 2-3: {formatted_sidak_adjusted[2]}')\n"
   ]
  },
  {
   "cell_type": "markdown",
   "metadata": {},
   "source": [
    "<h3>Export</h3>"
   ]
  },
  {
   "cell_type": "code",
   "execution_count": null,
   "metadata": {},
   "outputs": [],
   "source": [
    "excel_data = [group_variables, sum_data_to_export]\n",
    "print(excel_data)\n",
    "\n",
    "df = pd.DataFrame(excel_data).T\n",
    "file_name = input(\"Name the database file: \")\n",
    "print(file_name)\n",
    "output_path = f'/content/{file_name}.xlsx'\n",
    "df.to_excel(output_path, index=False, header=False)"
   ]
  }
 ],
 "metadata": {
  "kernelspec": {
   "display_name": "Python 3",
   "language": "python",
   "name": "python3"
  },
  "language_info": {
   "name": "python",
   "version": "3.12.2"
  }
 },
 "nbformat": 4,
 "nbformat_minor": 2
}
